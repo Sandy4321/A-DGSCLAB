{
    "nbformat_minor": 1, 
    "cells": [
        {
            "source": "# Propensity to Buy Scoring Feed Fixing Biased Data", 
            "cell_type": "markdown", 
            "metadata": {}
        }, 
        {
            "source": "!pip install --upgrade watson-machine-learning-client --no-cache | tail -n 1", 
            "cell_type": "code", 
            "metadata": {}, 
            "outputs": [
                {
                    "output_type": "stream", 
                    "name": "stdout", 
                    "text": "Requirement not upgraded as not directly required: jmespath<1.0.0,>=0.7.1 in /opt/conda/envs/DSX-Python35/lib/python3.5/site-packages (from ibm-cos-sdk-core==2.*,>=2.0.0->ibm-cos-sdk->watson-machine-learning-client)\r\n"
                }
            ], 
            "execution_count": 1
        }, 
        {
            "source": "WML_CREDENTIALS = WML_CREDENTIALS ={\n  \"apikey\": \"wcPASQdXvtEPgA79lY4sYpCfiWAOoSNudy0hh24PMNbb\",\n  \"iam_apikey_description\": \"Auto generated apikey during resource-key operation for Instance - crn:v1:bluemix:public:pm-20:us-south:a/97deeb0b7e78431438a00a04f20580b7:e7e6948c-829b-4d59-ae09-3f991dfe52cf::\",\n  \"iam_apikey_name\": \"auto-generated-apikey-f4fafb37-2a2d-477c-a9c6-0ff5400609f6\",\n  \"iam_role_crn\": \"crn:v1:bluemix:public:iam::::serviceRole:Writer\",\n  \"iam_serviceid_crn\": \"crn:v1:bluemix:public:iam-identity::a/97deeb0b7e78431438a00a04f20580b7::serviceid:ServiceId-8e03beb2-f9d6-4351-b0e5-2add2a3437df\",\n  \"instance_id\": \"e7e6948c-829b-4d59-ae09-3f991dfe52cf\",\n  \"password\": \"d3538d26-7a6c-4e2f-b114-6a02041ce00b\",\n  \"url\": \"https://us-south.ml.cloud.ibm.com\",\n  \"username\": \"f4fafb37-2a2d-477c-a9c6-0ff5400609f6\"\n}", 
            "cell_type": "code", 
            "metadata": {}, 
            "outputs": [], 
            "execution_count": 2
        }, 
        {
            "source": "\nMIN_RECORDS = 1000\nMAX_RECORDS = 1000", 
            "cell_type": "code", 
            "metadata": {}, 
            "outputs": [], 
            "execution_count": 3
        }, 
        {
            "source": "import json, random\nfrom watson_machine_learning_client import WatsonMachineLearningAPIClient", 
            "cell_type": "code", 
            "metadata": {}, 
            "outputs": [
                {
                    "output_type": "stream", 
                    "name": "stderr", 
                    "text": "/opt/conda/envs/DSX-Python35/lib/python3.5/site-packages/sklearn/cross_validation.py:41: DeprecationWarning: This module was deprecated in version 0.18 in favor of the model_selection module into which all the refactored classes and functions are moved. Also note that the interface of the new CV iterators are different from that of this module. This module will be removed in 0.20.\n  \"This module will be removed in 0.20.\", DeprecationWarning)\n2019-03-11 16:29:29,581 - watson_machine_learning_client.wml_client_error - WARNING - Failure during scoring. (POST https://api.aiopenscale.cloud.ibm.com/v1/data_marts/6768d874-8cdb-4890-99b4-f02926239ece/service_bindings/e7e6948c-829b-4d59-ae09-3f991dfe52cf/subscriptions/67e94375-6397-4dd2-9b08-1b0e4e229bb3/deployments/e5010977-c901-4e07-a474-11b77b7c7d8c/online)\nStatus code: 500, body: {\"message\": \"'kid'\", \"code\": \"AIQFM0001\"}\n\n"
                }
            ], 
            "execution_count": 4
        }, 
        {
            "source": "wml_client = WatsonMachineLearningAPIClient(WML_CREDENTIALS)", 
            "cell_type": "code", 
            "metadata": {}, 
            "outputs": [], 
            "execution_count": 5
        }, 
        {
            "source": "!rm df_payload_biased.json\n!wget https://raw.githubusercontent.com/shadgriffin/A-DGSCLAB/master/df_payload_biased.json", 
            "cell_type": "code", 
            "metadata": {}, 
            "outputs": [
                {
                    "output_type": "stream", 
                    "name": "stdout", 
                    "text": "--2019-03-11 16:29:25--  https://raw.githubusercontent.com/shadgriffin/A-DGSCLAB/master/df_payload_biased.json\r\nResolving raw.githubusercontent.com (raw.githubusercontent.com)... 151.101.48.133\r\nConnecting to raw.githubusercontent.com (raw.githubusercontent.com)|151.101.48.133|:443... connected.\r\nHTTP request sent, awaiting response... 200 OK\r\nLength: 249927 (244K) [text/plain]\r\nSaving to: \u2018df_payload_biased.json\u2019\r\n\r\n\r 0% [                                       ] 0           --.-K/s              \r100%[======================================>] 249,927     --.-K/s   in 0.02s   \r\n\r\n2019-03-11 16:29:25 (14.0 MB/s) - \u2018df_payload_biased.json\u2019 saved [249927/249927]\r\n\r\n"
                }
            ], 
            "execution_count": 6
        }, 
        {
            "source": "scoring_url=\"https://api.aiopenscale.cloud.ibm.com/v1/data_marts/6768d874-8cdb-4890-99b4-f02926239ece/service_bindings/e7e6948c-829b-4d59-ae09-3f991dfe52cf/subscriptions/67e94375-6397-4dd2-9b08-1b0e4e229bb3/deployments/e5010977-c901-4e07-a474-11b77b7c7d8c/online\"\n", 
            "cell_type": "code", 
            "metadata": {}, 
            "outputs": [], 
            "execution_count": 7
        }, 
        {
            "source": "try:\n    with open('df_payload_biased.json', 'r') as scoring_file:\n        scoring_data = json.load(scoring_file)\n    print('file found')\n    \nexcept:\n    !wget https://raw.githubusercontent.com/shadgriffin/A-DGSCLAB/master/df_payload_biased.json\n    with open('df_payload_biased.json', 'r') as scoring_file:\n        scoring_data = json.load(scoring_file)\n    print('file downloaded')", 
            "cell_type": "code", 
            "metadata": {}, 
            "outputs": [
                {
                    "output_type": "stream", 
                    "name": "stdout", 
                    "text": "file found\n"
                }
            ], 
            "execution_count": 8
        }, 
        {
            "source": "fields = scoring_data['fields']\nvalues = []\nfor _ in range(0, random.randint(MIN_RECORDS, MAX_RECORDS)):\n    values.append(random.choice(scoring_data['values']))\npayload_scoring = {\"fields\": fields, \"values\": values}\n\nscoring_response = wml_client.deployments.score(scoring_url, payload_scoring)\nprint(scoring_response)", 
            "cell_type": "code", 
            "metadata": {}, 
            "outputs": [
                {
                    "output_type": "error", 
                    "evalue": "Failure during scoring. (POST https://api.aiopenscale.cloud.ibm.com/v1/data_marts/6768d874-8cdb-4890-99b4-f02926239ece/service_bindings/e7e6948c-829b-4d59-ae09-3f991dfe52cf/subscriptions/67e94375-6397-4dd2-9b08-1b0e4e229bb3/deployments/e5010977-c901-4e07-a474-11b77b7c7d8c/online)\nStatus code: 500, body: {\"message\": \"'kid'\", \"code\": \"AIQFM0001\"}\n", 
                    "traceback": [
                        "\u001b[0;31m---------------------------------------------------------------------------\u001b[0m", 
                        "\u001b[0;31mApiRequestFailure\u001b[0m                         Traceback (most recent call last)", 
                        "\u001b[0;32m<ipython-input-9-27fdc66e492b>\u001b[0m in \u001b[0;36m<module>\u001b[0;34m()\u001b[0m\n\u001b[1;32m      5\u001b[0m \u001b[0mpayload_scoring\u001b[0m \u001b[0;34m=\u001b[0m \u001b[0;34m{\u001b[0m\u001b[0;34m\"fields\"\u001b[0m\u001b[0;34m:\u001b[0m \u001b[0mfields\u001b[0m\u001b[0;34m,\u001b[0m \u001b[0;34m\"values\"\u001b[0m\u001b[0;34m:\u001b[0m \u001b[0mvalues\u001b[0m\u001b[0;34m}\u001b[0m\u001b[0;34m\u001b[0m\u001b[0m\n\u001b[1;32m      6\u001b[0m \u001b[0;34m\u001b[0m\u001b[0m\n\u001b[0;32m----> 7\u001b[0;31m \u001b[0mscoring_response\u001b[0m \u001b[0;34m=\u001b[0m \u001b[0mwml_client\u001b[0m\u001b[0;34m.\u001b[0m\u001b[0mdeployments\u001b[0m\u001b[0;34m.\u001b[0m\u001b[0mscore\u001b[0m\u001b[0;34m(\u001b[0m\u001b[0mscoring_url\u001b[0m\u001b[0;34m,\u001b[0m \u001b[0mpayload_scoring\u001b[0m\u001b[0;34m)\u001b[0m\u001b[0;34m\u001b[0m\u001b[0m\n\u001b[0m\u001b[1;32m      8\u001b[0m \u001b[0mprint\u001b[0m\u001b[0;34m(\u001b[0m\u001b[0mscoring_response\u001b[0m\u001b[0;34m)\u001b[0m\u001b[0;34m\u001b[0m\u001b[0m\n", 
                        "\u001b[0;32m/opt/conda/envs/DSX-Python35/lib/python3.5/site-packages/watson_machine_learning_client/deployments.py\u001b[0m in \u001b[0;36mscore\u001b[0;34m(self, scoring_url, payload, transaction_id)\u001b[0m\n\u001b[1;32m    841\u001b[0m                 verify=False)\n\u001b[1;32m    842\u001b[0m \u001b[0;34m\u001b[0m\u001b[0m\n\u001b[0;32m--> 843\u001b[0;31m         \u001b[0;32mreturn\u001b[0m \u001b[0mself\u001b[0m\u001b[0;34m.\u001b[0m\u001b[0m_handle_response\u001b[0m\u001b[0;34m(\u001b[0m\u001b[0;36m200\u001b[0m\u001b[0;34m,\u001b[0m \u001b[0;34mu'scoring'\u001b[0m\u001b[0;34m,\u001b[0m \u001b[0mresponse_scoring\u001b[0m\u001b[0;34m)\u001b[0m\u001b[0;34m\u001b[0m\u001b[0m\n\u001b[0m\u001b[1;32m    844\u001b[0m \u001b[0;34m\u001b[0m\u001b[0m\n\u001b[1;32m    845\u001b[0m     \u001b[0;32mdef\u001b[0m \u001b[0m_get_deployable_asset_type\u001b[0m\u001b[0;34m(\u001b[0m\u001b[0mself\u001b[0m\u001b[0;34m,\u001b[0m \u001b[0mdetails\u001b[0m\u001b[0;34m)\u001b[0m\u001b[0;34m:\u001b[0m\u001b[0;34m\u001b[0m\u001b[0m\n", 
                        "\u001b[0;32m/opt/conda/envs/DSX-Python35/lib/python3.5/site-packages/watson_machine_learning_client/wml_resource.py\u001b[0m in \u001b[0;36m_handle_response\u001b[0;34m(self, expected_status_code, operationName, response, json_response)\u001b[0m\n\u001b[1;32m     53\u001b[0m                 \u001b[0;32mreturn\u001b[0m \u001b[0mresponse\u001b[0m\u001b[0;34m.\u001b[0m\u001b[0mtext\u001b[0m\u001b[0;34m\u001b[0m\u001b[0m\n\u001b[1;32m     54\u001b[0m         \u001b[0;32melse\u001b[0m\u001b[0;34m:\u001b[0m\u001b[0;34m\u001b[0m\u001b[0m\n\u001b[0;32m---> 55\u001b[0;31m             \u001b[0;32mraise\u001b[0m \u001b[0mApiRequestFailure\u001b[0m\u001b[0;34m(\u001b[0m\u001b[0;34mu'Failure during {}.'\u001b[0m\u001b[0;34m.\u001b[0m\u001b[0mformat\u001b[0m\u001b[0;34m(\u001b[0m\u001b[0moperationName\u001b[0m\u001b[0;34m)\u001b[0m\u001b[0;34m,\u001b[0m \u001b[0mresponse\u001b[0m\u001b[0;34m)\u001b[0m\u001b[0;34m\u001b[0m\u001b[0m\n\u001b[0m\u001b[1;32m     56\u001b[0m \u001b[0;34m\u001b[0m\u001b[0m\n\u001b[1;32m     57\u001b[0m     \u001b[0;34m@\u001b[0m\u001b[0mstaticmethod\u001b[0m\u001b[0;34m\u001b[0m\u001b[0m\n", 
                        "\u001b[0;31mApiRequestFailure\u001b[0m: Failure during scoring. (POST https://api.aiopenscale.cloud.ibm.com/v1/data_marts/6768d874-8cdb-4890-99b4-f02926239ece/service_bindings/e7e6948c-829b-4d59-ae09-3f991dfe52cf/subscriptions/67e94375-6397-4dd2-9b08-1b0e4e229bb3/deployments/e5010977-c901-4e07-a474-11b77b7c7d8c/online)\nStatus code: 500, body: {\"message\": \"'kid'\", \"code\": \"AIQFM0001\"}\n"
                    ], 
                    "ename": "ApiRequestFailure"
                }
            ], 
            "execution_count": 9
        }, 
        {
            "source": "", 
            "cell_type": "code", 
            "metadata": {}, 
            "outputs": [], 
            "execution_count": null
        }, 
        {
            "source": "", 
            "cell_type": "code", 
            "metadata": {}, 
            "outputs": [], 
            "execution_count": null
        }, 
        {
            "source": "", 
            "cell_type": "code", 
            "metadata": {}, 
            "outputs": [], 
            "execution_count": null
        }
    ], 
    "metadata": {
        "kernelspec": {
            "display_name": "Python 3.5", 
            "name": "python3", 
            "language": "python"
        }, 
        "language_info": {
            "mimetype": "text/x-python", 
            "nbconvert_exporter": "python", 
            "version": "3.5.5", 
            "name": "python", 
            "file_extension": ".py", 
            "pygments_lexer": "ipython3", 
            "codemirror_mode": {
                "version": 3, 
                "name": "ipython"
            }
        }
    }, 
    "nbformat": 4
}